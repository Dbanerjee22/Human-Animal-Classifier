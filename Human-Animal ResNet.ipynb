import os
from keras.preprocessing import image
import numpy as np
from keras.applications.resnet50 import preprocess_input
from keras.utils import np_utils
from sklearn.utils import shuffle
from sklearn.model_selection import train_test_split
import time
from tensorflow.keras.applications.resnet50 import ResNet50
from keras.layers import GlobalAveragePooling2D, Dense, Dropout,Activation,Flatten
from keras import applications
from keras.models import Sequential, Model, load_model
from keras.layers import Input
from PIL import Image
img_data_list=[]
image_list=os.listdir("D:/Totaldataset")
#-----------Process the image----------------
for data in image_list:
    img_path="D:\\Totaldataset\\"+data
    img=image.load_img(img_path,target_size=(224,224))
    x = image.img_to_array(img)
    x = np.expand_dims(x, axis=0)
    x = preprocess_input(x)
    print('Input image shape:', x.shape)
    img_data_list.append(x)
    #----------Reshape the image-----------------
img_data = np.array(img_data_list)
print (img_data.shape)
img_data=np.rollaxis(img_data,1,0)
print (img_data.shape)
img_data=img_data[0]
print (img_data.shape)
num_classes = 2
num_of_samples = img_data.shape[0]
labels = np.ones((num_of_samples,),dtype='int64')
labels[0:606]=0
labels[606:808]=1
names = ['Animals','humans']
# convert class labels to on-hot encoding
Y = np_utils.to_categorical(labels, num_classes)
#Shuffle the dataset
x,y = shuffle(img_data,Y, random_state=2)
# Split the dataset
x_train, x_test, y_train, y_test = train_test_split(x, y, test_size=0.2, random_state=2)
# Resnet Model
custom_resnet_model2 = Model(inputs=model.input, outputs=out)

custom_resnet_model2.summary()

for layer in custom_resnet_model2.layers[:-6]:
    layer.trainable = False

custom_resnet_model2.layers[-1].trainable

custom_resnet_model2.compile(loss='categorical_crossentropy',optimizer='adam',metrics=['accuracy'])

t=time.time()
hist = custom_resnet_model2.fit(x_train, y_train, batch_size=32, epochs=4, verbose=1, validation_data=(x_test, y_test))
print('Training time: %s' % (t - time.time()))
(loss, accuracy) = custom_resnet_model2.evaluate(X_test, y_test, batch_size=10, verbose=1)

print("[INFO] loss={:.4f}, accuracy: {:.4f}%".format(loss,accuracy * 100))
xnew="D:\\elephant.jpg"
img = image.load_img(xnew, target_size=(224, 224))
x = image.img_to_array(img)
print (x.shape)
x = np.expand_dims(x, axis=0)
print (x.shape)
x = preprocess_input(x)
print('Input image shape:', x.shape)
#-------predict given image-------------------------
ynew = custom_resnet_model2.predict(x)
#---------save the image in Appropriate container-----
name=xnew.split("\\")[1]
if(ynew.flat[0]>ynew.flat[1]):
    path1="D:\\Animal\\"+name
    img.save(path1,"JPEG")
else:
    path2="D:\\Human"+name
    img.save(path2,"JPEG")
ynew = custom_resnet_model2.predict(x)
